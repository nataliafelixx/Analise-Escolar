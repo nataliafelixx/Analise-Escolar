{
 "cells": [
  {
   "cell_type": "markdown",
   "metadata": {},
   "source": [
    "### Teste DS Murabei - Natália Felix"
   ]
  },
  {
   "cell_type": "code",
   "execution_count": 379,
   "metadata": {
    "tags": []
   },
   "outputs": [],
   "source": [
    "import pandas as pd\n",
    "import matplotlib.pyplot as plt\n",
    "from pandas_profiling import ProfileReport\n",
    "import matplotlib\n",
    "%matplotlib inline\n",
    "import matplotlib.pyplot as plt\n",
    "from sklearn.ensemble import RandomForestRegressor\n",
    "from sklearn.model_selection import train_test_split\n",
    "from sklearn.metrics import mean_squared_error, mean_absolute_error, r2_score, mean_squared_log_error\n",
    "import numpy as np\n",
    "import warnings\n",
    "warnings.filterwarnings('ignore')"
   ]
  },
  {
   "cell_type": "markdown",
   "metadata": {},
   "source": [
    "#### cat_student_data:"
   ]
  },
  {
   "cell_type": "code",
   "execution_count": 381,
   "metadata": {},
   "outputs": [
    {
     "data": {
      "text/html": [
       "<div>\n",
       "<style scoped>\n",
       "    .dataframe tbody tr th:only-of-type {\n",
       "        vertical-align: middle;\n",
       "    }\n",
       "\n",
       "    .dataframe tbody tr th {\n",
       "        vertical-align: top;\n",
       "    }\n",
       "\n",
       "    .dataframe thead th {\n",
       "        text-align: right;\n",
       "    }\n",
       "</style>\n",
       "<table border=\"1\" class=\"dataframe\">\n",
       "  <thead>\n",
       "    <tr style=\"text-align: right;\">\n",
       "      <th></th>\n",
       "      <th>school</th>\n",
       "      <th>student</th>\n",
       "      <th>variable</th>\n",
       "      <th>value</th>\n",
       "    </tr>\n",
       "  </thead>\n",
       "  <tbody>\n",
       "    <tr>\n",
       "      <th>1</th>\n",
       "      <td>1</td>\n",
       "      <td>143</td>\n",
       "      <td>intake</td>\n",
       "      <td>bottom 25%</td>\n",
       "    </tr>\n",
       "    <tr>\n",
       "      <th>2</th>\n",
       "      <td>1</td>\n",
       "      <td>145</td>\n",
       "      <td>intake</td>\n",
       "      <td>mid 50%</td>\n",
       "    </tr>\n",
       "    <tr>\n",
       "      <th>3</th>\n",
       "      <td>1</td>\n",
       "      <td>142</td>\n",
       "      <td>intake</td>\n",
       "      <td>top 25%</td>\n",
       "    </tr>\n",
       "    <tr>\n",
       "      <th>4</th>\n",
       "      <td>1</td>\n",
       "      <td>141</td>\n",
       "      <td>intake</td>\n",
       "      <td>mid 50%</td>\n",
       "    </tr>\n",
       "    <tr>\n",
       "      <th>5</th>\n",
       "      <td>1</td>\n",
       "      <td>138</td>\n",
       "      <td>intake</td>\n",
       "      <td>mid 50%</td>\n",
       "    </tr>\n",
       "    <tr>\n",
       "      <th>...</th>\n",
       "      <td>...</td>\n",
       "      <td>...</td>\n",
       "      <td>...</td>\n",
       "      <td>...</td>\n",
       "    </tr>\n",
       "    <tr>\n",
       "      <th>12173</th>\n",
       "      <td>65</td>\n",
       "      <td>46</td>\n",
       "      <td>vr</td>\n",
       "      <td>mid 50%</td>\n",
       "    </tr>\n",
       "    <tr>\n",
       "      <th>12174</th>\n",
       "      <td>65</td>\n",
       "      <td>59</td>\n",
       "      <td>vr</td>\n",
       "      <td>mid 50%</td>\n",
       "    </tr>\n",
       "    <tr>\n",
       "      <th>12175</th>\n",
       "      <td>65</td>\n",
       "      <td>60</td>\n",
       "      <td>vr</td>\n",
       "      <td>mid 50%</td>\n",
       "    </tr>\n",
       "    <tr>\n",
       "      <th>12176</th>\n",
       "      <td>65</td>\n",
       "      <td>61</td>\n",
       "      <td>vr</td>\n",
       "      <td>mid 50%</td>\n",
       "    </tr>\n",
       "    <tr>\n",
       "      <th>12177</th>\n",
       "      <td>65</td>\n",
       "      <td>56</td>\n",
       "      <td>vr</td>\n",
       "      <td>mid 50%</td>\n",
       "    </tr>\n",
       "  </tbody>\n",
       "</table>\n",
       "<p>11828 rows × 4 columns</p>\n",
       "</div>"
      ],
      "text/plain": [
       "       school  student variable       value\n",
       "1           1      143   intake  bottom 25%\n",
       "2           1      145   intake     mid 50%\n",
       "3           1      142   intake     top 25%\n",
       "4           1      141   intake     mid 50%\n",
       "5           1      138   intake     mid 50%\n",
       "...       ...      ...      ...         ...\n",
       "12173      65       46       vr     mid 50%\n",
       "12174      65       59       vr     mid 50%\n",
       "12175      65       60       vr     mid 50%\n",
       "12176      65       61       vr     mid 50%\n",
       "12177      65       56       vr     mid 50%\n",
       "\n",
       "[11828 rows x 4 columns]"
      ]
     },
     "execution_count": 381,
     "metadata": {},
     "output_type": "execute_result"
    }
   ],
   "source": [
    "## Leitura do arquivo \"cat_student_data.csv\"\n",
    "\n",
    "data_cat_student = pd.read_csv ('cat_student_data.csv', sep=';')\n",
    "data_cat_student"
   ]
  },
  {
   "cell_type": "code",
   "execution_count": 382,
   "metadata": {},
   "outputs": [
    {
     "name": "stdout",
     "output_type": "stream",
     "text": [
      "3947\n"
     ]
    }
   ],
   "source": [
    "## Separação da informação necessária, nesse caso, optou-se por filtrar as informações \n",
    "## que tinham por referência a variável \"intake\":\n",
    "\n",
    "data_cat_student  = data_cat_student  [(data_cat_student .variable == 'intake')]\n",
    "print(len(data_cat_student[data_cat_student.variable == 'intake'].value))"
   ]
  },
  {
   "cell_type": "code",
   "execution_count": 383,
   "metadata": {},
   "outputs": [
    {
     "data": {
      "text/html": [
       "<div>\n",
       "<style scoped>\n",
       "    .dataframe tbody tr th:only-of-type {\n",
       "        vertical-align: middle;\n",
       "    }\n",
       "\n",
       "    .dataframe tbody tr th {\n",
       "        vertical-align: top;\n",
       "    }\n",
       "\n",
       "    .dataframe thead th {\n",
       "        text-align: right;\n",
       "    }\n",
       "</style>\n",
       "<table border=\"1\" class=\"dataframe\">\n",
       "  <thead>\n",
       "    <tr style=\"text-align: right;\">\n",
       "      <th></th>\n",
       "      <th>school</th>\n",
       "      <th>student</th>\n",
       "      <th>variable</th>\n",
       "      <th>value</th>\n",
       "    </tr>\n",
       "  </thead>\n",
       "  <tbody>\n",
       "    <tr>\n",
       "      <th>1</th>\n",
       "      <td>1</td>\n",
       "      <td>143</td>\n",
       "      <td>intake</td>\n",
       "      <td>bottom 25%</td>\n",
       "    </tr>\n",
       "    <tr>\n",
       "      <th>2</th>\n",
       "      <td>1</td>\n",
       "      <td>145</td>\n",
       "      <td>intake</td>\n",
       "      <td>mid 50%</td>\n",
       "    </tr>\n",
       "    <tr>\n",
       "      <th>3</th>\n",
       "      <td>1</td>\n",
       "      <td>142</td>\n",
       "      <td>intake</td>\n",
       "      <td>top 25%</td>\n",
       "    </tr>\n",
       "    <tr>\n",
       "      <th>4</th>\n",
       "      <td>1</td>\n",
       "      <td>141</td>\n",
       "      <td>intake</td>\n",
       "      <td>mid 50%</td>\n",
       "    </tr>\n",
       "    <tr>\n",
       "      <th>5</th>\n",
       "      <td>1</td>\n",
       "      <td>138</td>\n",
       "      <td>intake</td>\n",
       "      <td>mid 50%</td>\n",
       "    </tr>\n",
       "  </tbody>\n",
       "</table>\n",
       "</div>"
      ],
      "text/plain": [
       "   school  student variable       value\n",
       "1       1      143   intake  bottom 25%\n",
       "2       1      145   intake     mid 50%\n",
       "3       1      142   intake     top 25%\n",
       "4       1      141   intake     mid 50%\n",
       "5       1      138   intake     mid 50%"
      ]
     },
     "execution_count": 383,
     "metadata": {},
     "output_type": "execute_result"
    }
   ],
   "source": [
    "## Visualização das 5 primeiras linhas do dataframe:\n",
    "\n",
    "data_cat_student.head()"
   ]
  },
  {
   "cell_type": "code",
   "execution_count": 384,
   "metadata": {},
   "outputs": [],
   "source": [
    "## Devido à utilização das informações contidas no df, optou-se por \"transformar\" os dados escritos em dados numéricos,\n",
    "## para que pudessem ser realizadas operações com os mesmos:\n",
    "\n",
    "## bottom 25% (abaixo) = 0.25\n",
    "## mid 50% (média) = 0.50\n",
    "## top 25% (acima) = 0.75\n",
    "\n",
    "data_cat_student.value = data_cat_student.value.map({'bottom 25%':'0.25','mid 50%':'0.50', 'top 25%':'0.75'})\n",
    "data_cat_student.value = data_cat_student.value.astype(float)\n",
    "data_cat_student.student = data_cat_student.student.astype(float)\n",
    "data_cat_student.drop(['variable'], axis = 1, inplace = True)"
   ]
  },
  {
   "cell_type": "code",
   "execution_count": 385,
   "metadata": {},
   "outputs": [
    {
     "name": "stdout",
     "output_type": "stream",
     "text": [
      "<class 'pandas.core.frame.DataFrame'>\n",
      "Int64Index: 3947 entries, 1 to 4059\n",
      "Data columns (total 3 columns):\n",
      " #   Column   Non-Null Count  Dtype  \n",
      "---  ------   --------------  -----  \n",
      " 0   school   3947 non-null   int64  \n",
      " 1   student  3947 non-null   float64\n",
      " 2   value    3947 non-null   float64\n",
      "dtypes: float64(2), int64(1)\n",
      "memory usage: 123.3 KB\n"
     ]
    }
   ],
   "source": [
    "## Obtenção das informações acima colhidas, bem como a confirmção dos tipos das colunas no df em questão:\n",
    "data_cat_student.info()"
   ]
  },
  {
   "cell_type": "code",
   "execution_count": 386,
   "metadata": {},
   "outputs": [
    {
     "data": {
      "text/html": [
       "<div>\n",
       "<style scoped>\n",
       "    .dataframe tbody tr th:only-of-type {\n",
       "        vertical-align: middle;\n",
       "    }\n",
       "\n",
       "    .dataframe tbody tr th {\n",
       "        vertical-align: top;\n",
       "    }\n",
       "\n",
       "    .dataframe thead th {\n",
       "        text-align: right;\n",
       "    }\n",
       "</style>\n",
       "<table border=\"1\" class=\"dataframe\">\n",
       "  <thead>\n",
       "    <tr style=\"text-align: right;\">\n",
       "      <th></th>\n",
       "      <th>school</th>\n",
       "      <th>student</th>\n",
       "      <th>value</th>\n",
       "    </tr>\n",
       "  </thead>\n",
       "  <tbody>\n",
       "    <tr>\n",
       "      <th>1</th>\n",
       "      <td>1</td>\n",
       "      <td>143.0</td>\n",
       "      <td>0.25</td>\n",
       "    </tr>\n",
       "    <tr>\n",
       "      <th>2</th>\n",
       "      <td>1</td>\n",
       "      <td>145.0</td>\n",
       "      <td>0.50</td>\n",
       "    </tr>\n",
       "    <tr>\n",
       "      <th>3</th>\n",
       "      <td>1</td>\n",
       "      <td>142.0</td>\n",
       "      <td>0.75</td>\n",
       "    </tr>\n",
       "    <tr>\n",
       "      <th>4</th>\n",
       "      <td>1</td>\n",
       "      <td>141.0</td>\n",
       "      <td>0.50</td>\n",
       "    </tr>\n",
       "    <tr>\n",
       "      <th>5</th>\n",
       "      <td>1</td>\n",
       "      <td>138.0</td>\n",
       "      <td>0.50</td>\n",
       "    </tr>\n",
       "    <tr>\n",
       "      <th>...</th>\n",
       "      <td>...</td>\n",
       "      <td>...</td>\n",
       "      <td>...</td>\n",
       "    </tr>\n",
       "    <tr>\n",
       "      <th>4055</th>\n",
       "      <td>65</td>\n",
       "      <td>46.0</td>\n",
       "      <td>0.25</td>\n",
       "    </tr>\n",
       "    <tr>\n",
       "      <th>4056</th>\n",
       "      <td>65</td>\n",
       "      <td>59.0</td>\n",
       "      <td>0.50</td>\n",
       "    </tr>\n",
       "    <tr>\n",
       "      <th>4057</th>\n",
       "      <td>65</td>\n",
       "      <td>60.0</td>\n",
       "      <td>0.50</td>\n",
       "    </tr>\n",
       "    <tr>\n",
       "      <th>4058</th>\n",
       "      <td>65</td>\n",
       "      <td>61.0</td>\n",
       "      <td>0.50</td>\n",
       "    </tr>\n",
       "    <tr>\n",
       "      <th>4059</th>\n",
       "      <td>65</td>\n",
       "      <td>56.0</td>\n",
       "      <td>0.75</td>\n",
       "    </tr>\n",
       "  </tbody>\n",
       "</table>\n",
       "<p>3947 rows × 3 columns</p>\n",
       "</div>"
      ],
      "text/plain": [
       "      school  student  value\n",
       "1          1    143.0   0.25\n",
       "2          1    145.0   0.50\n",
       "3          1    142.0   0.75\n",
       "4          1    141.0   0.50\n",
       "5          1    138.0   0.50\n",
       "...      ...      ...    ...\n",
       "4055      65     46.0   0.25\n",
       "4056      65     59.0   0.50\n",
       "4057      65     60.0   0.50\n",
       "4058      65     61.0   0.50\n",
       "4059      65     56.0   0.75\n",
       "\n",
       "[3947 rows x 3 columns]"
      ]
     },
     "execution_count": 386,
     "metadata": {},
     "output_type": "execute_result"
    }
   ],
   "source": [
    "## Visualização do df após as alterações realizadas:\n",
    "data_cat_student"
   ]
  },
  {
   "cell_type": "markdown",
   "metadata": {},
   "source": [
    "#### cat_school_data:"
   ]
  },
  {
   "cell_type": "code",
   "execution_count": 388,
   "metadata": {},
   "outputs": [
    {
     "data": {
      "text/html": [
       "<div>\n",
       "<style scoped>\n",
       "    .dataframe tbody tr th:only-of-type {\n",
       "        vertical-align: middle;\n",
       "    }\n",
       "\n",
       "    .dataframe tbody tr th {\n",
       "        vertical-align: top;\n",
       "    }\n",
       "\n",
       "    .dataframe thead th {\n",
       "        text-align: right;\n",
       "    }\n",
       "</style>\n",
       "<table border=\"1\" class=\"dataframe\">\n",
       "  <thead>\n",
       "    <tr style=\"text-align: right;\">\n",
       "      <th></th>\n",
       "      <th>school</th>\n",
       "      <th>variable</th>\n",
       "      <th>value</th>\n",
       "    </tr>\n",
       "  </thead>\n",
       "  <tbody>\n",
       "    <tr>\n",
       "      <th>0</th>\n",
       "      <td>1</td>\n",
       "      <td>schgend</td>\n",
       "      <td>mixed</td>\n",
       "    </tr>\n",
       "    <tr>\n",
       "      <th>1</th>\n",
       "      <td>2</td>\n",
       "      <td>schgend</td>\n",
       "      <td>girls</td>\n",
       "    </tr>\n",
       "    <tr>\n",
       "      <th>2</th>\n",
       "      <td>3</td>\n",
       "      <td>schgend</td>\n",
       "      <td>mixed</td>\n",
       "    </tr>\n",
       "    <tr>\n",
       "      <th>3</th>\n",
       "      <td>4</td>\n",
       "      <td>schgend</td>\n",
       "      <td>mixed</td>\n",
       "    </tr>\n",
       "    <tr>\n",
       "      <th>4</th>\n",
       "      <td>5</td>\n",
       "      <td>schgend</td>\n",
       "      <td>mixed</td>\n",
       "    </tr>\n",
       "    <tr>\n",
       "      <th>...</th>\n",
       "      <td>...</td>\n",
       "      <td>...</td>\n",
       "      <td>...</td>\n",
       "    </tr>\n",
       "    <tr>\n",
       "      <th>125</th>\n",
       "      <td>61</td>\n",
       "      <td>type</td>\n",
       "      <td>Mxd</td>\n",
       "    </tr>\n",
       "    <tr>\n",
       "      <th>126</th>\n",
       "      <td>62</td>\n",
       "      <td>type</td>\n",
       "      <td>Mxd</td>\n",
       "    </tr>\n",
       "    <tr>\n",
       "      <th>127</th>\n",
       "      <td>63</td>\n",
       "      <td>type</td>\n",
       "      <td>Mxd</td>\n",
       "    </tr>\n",
       "    <tr>\n",
       "      <th>128</th>\n",
       "      <td>64</td>\n",
       "      <td>type</td>\n",
       "      <td>Sngl</td>\n",
       "    </tr>\n",
       "    <tr>\n",
       "      <th>129</th>\n",
       "      <td>65</td>\n",
       "      <td>type</td>\n",
       "      <td>Sngl</td>\n",
       "    </tr>\n",
       "  </tbody>\n",
       "</table>\n",
       "<p>130 rows × 3 columns</p>\n",
       "</div>"
      ],
      "text/plain": [
       "     school variable  value\n",
       "0         1  schgend  mixed\n",
       "1         2  schgend  girls\n",
       "2         3  schgend  mixed\n",
       "3         4  schgend  mixed\n",
       "4         5  schgend  mixed\n",
       "..      ...      ...    ...\n",
       "125      61     type    Mxd\n",
       "126      62     type    Mxd\n",
       "127      63     type    Mxd\n",
       "128      64     type   Sngl\n",
       "129      65     type   Sngl\n",
       "\n",
       "[130 rows x 3 columns]"
      ]
     },
     "execution_count": 388,
     "metadata": {},
     "output_type": "execute_result"
    }
   ],
   "source": [
    "## Leitura do arquivo \"cat_school_data.csv\" e visualização do tamanho do mesmo:\n",
    "\n",
    "data_cat_school = pd.read_csv ('cat_school_data.csv', sep=';')\n",
    "data_cat_school"
   ]
  },
  {
   "cell_type": "code",
   "execution_count": 389,
   "metadata": {},
   "outputs": [
    {
     "name": "stdout",
     "output_type": "stream",
     "text": [
      "<class 'pandas.core.frame.DataFrame'>\n",
      "RangeIndex: 130 entries, 0 to 129\n",
      "Data columns (total 3 columns):\n",
      " #   Column    Non-Null Count  Dtype \n",
      "---  ------    --------------  ----- \n",
      " 0   school    130 non-null    int64 \n",
      " 1   variable  130 non-null    object\n",
      " 2   value     130 non-null    object\n",
      "dtypes: int64(1), object(2)\n",
      "memory usage: 3.2+ KB\n"
     ]
    }
   ],
   "source": [
    "## Obtenção das informações do novo df:\n",
    "data_cat_school.info()"
   ]
  },
  {
   "cell_type": "code",
   "execution_count": 390,
   "metadata": {},
   "outputs": [
    {
     "data": {
      "text/plain": [
       "school      0\n",
       "variable    0\n",
       "value       0\n",
       "dtype: int64"
      ]
     },
     "execution_count": 390,
     "metadata": {},
     "output_type": "execute_result"
    }
   ],
   "source": [
    "## Verificação da existência de dados nulos no arquivo:\n",
    "\n",
    "data_cat_school.isna().sum()"
   ]
  },
  {
   "cell_type": "code",
   "execution_count": 391,
   "metadata": {},
   "outputs": [
    {
     "data": {
      "text/html": [
       "<div>\n",
       "<style scoped>\n",
       "    .dataframe tbody tr th:only-of-type {\n",
       "        vertical-align: middle;\n",
       "    }\n",
       "\n",
       "    .dataframe tbody tr th {\n",
       "        vertical-align: top;\n",
       "    }\n",
       "\n",
       "    .dataframe thead th {\n",
       "        text-align: right;\n",
       "    }\n",
       "</style>\n",
       "<table border=\"1\" class=\"dataframe\">\n",
       "  <thead>\n",
       "    <tr style=\"text-align: right;\">\n",
       "      <th></th>\n",
       "      <th>school</th>\n",
       "      <th>value</th>\n",
       "    </tr>\n",
       "  </thead>\n",
       "  <tbody>\n",
       "    <tr>\n",
       "      <th>0</th>\n",
       "      <td>1</td>\n",
       "      <td>mixed</td>\n",
       "    </tr>\n",
       "    <tr>\n",
       "      <th>1</th>\n",
       "      <td>2</td>\n",
       "      <td>girls</td>\n",
       "    </tr>\n",
       "    <tr>\n",
       "      <th>2</th>\n",
       "      <td>3</td>\n",
       "      <td>mixed</td>\n",
       "    </tr>\n",
       "    <tr>\n",
       "      <th>3</th>\n",
       "      <td>4</td>\n",
       "      <td>mixed</td>\n",
       "    </tr>\n",
       "    <tr>\n",
       "      <th>4</th>\n",
       "      <td>5</td>\n",
       "      <td>mixed</td>\n",
       "    </tr>\n",
       "    <tr>\n",
       "      <th>...</th>\n",
       "      <td>...</td>\n",
       "      <td>...</td>\n",
       "    </tr>\n",
       "    <tr>\n",
       "      <th>60</th>\n",
       "      <td>61</td>\n",
       "      <td>mixed</td>\n",
       "    </tr>\n",
       "    <tr>\n",
       "      <th>61</th>\n",
       "      <td>62</td>\n",
       "      <td>mixed</td>\n",
       "    </tr>\n",
       "    <tr>\n",
       "      <th>62</th>\n",
       "      <td>63</td>\n",
       "      <td>mixed</td>\n",
       "    </tr>\n",
       "    <tr>\n",
       "      <th>63</th>\n",
       "      <td>64</td>\n",
       "      <td>boys</td>\n",
       "    </tr>\n",
       "    <tr>\n",
       "      <th>64</th>\n",
       "      <td>65</td>\n",
       "      <td>girls</td>\n",
       "    </tr>\n",
       "  </tbody>\n",
       "</table>\n",
       "<p>65 rows × 2 columns</p>\n",
       "</div>"
      ],
      "text/plain": [
       "    school  value\n",
       "0        1  mixed\n",
       "1        2  girls\n",
       "2        3  mixed\n",
       "3        4  mixed\n",
       "4        5  mixed\n",
       "..     ...    ...\n",
       "60      61  mixed\n",
       "61      62  mixed\n",
       "62      63  mixed\n",
       "63      64   boys\n",
       "64      65  girls\n",
       "\n",
       "[65 rows x 2 columns]"
      ]
     },
     "execution_count": 391,
     "metadata": {},
     "output_type": "execute_result"
    }
   ],
   "source": [
    "## Para obtenção da informação necessária, nesse caso, o gênero da escola, filtrou-se apenas os dados pertencentes\n",
    "## à variável \"schgend\". Após obtidas as informações pertencentes ao gênero, a coluna \"variable\" foi removida, uma vez que esta\n",
    "## já não seria mais utilizada nas próximas etapas:\n",
    "\n",
    "data_cat_school = data_cat_school [(data_cat_school.variable == 'schgend')]\n",
    "data_cat_school.drop(['variable'], axis = 1, inplace = True)\n",
    "data_cat_school"
   ]
  },
  {
   "cell_type": "markdown",
   "metadata": {},
   "source": [
    "#### data_num_student:"
   ]
  },
  {
   "cell_type": "code",
   "execution_count": 392,
   "metadata": {},
   "outputs": [
    {
     "data": {
      "text/html": [
       "<div>\n",
       "<style scoped>\n",
       "    .dataframe tbody tr th:only-of-type {\n",
       "        vertical-align: middle;\n",
       "    }\n",
       "\n",
       "    .dataframe tbody tr th {\n",
       "        vertical-align: top;\n",
       "    }\n",
       "\n",
       "    .dataframe thead th {\n",
       "        text-align: right;\n",
       "    }\n",
       "</style>\n",
       "<table border=\"1\" class=\"dataframe\">\n",
       "  <thead>\n",
       "    <tr style=\"text-align: right;\">\n",
       "      <th></th>\n",
       "      <th>school</th>\n",
       "      <th>student</th>\n",
       "      <th>variable</th>\n",
       "      <th>value</th>\n",
       "    </tr>\n",
       "  </thead>\n",
       "  <tbody>\n",
       "    <tr>\n",
       "      <th>1</th>\n",
       "      <td>1</td>\n",
       "      <td>143.0</td>\n",
       "      <td>normexam</td>\n",
       "      <td>0,2613242</td>\n",
       "    </tr>\n",
       "    <tr>\n",
       "      <th>2</th>\n",
       "      <td>1</td>\n",
       "      <td>145.0</td>\n",
       "      <td>normexam</td>\n",
       "      <td>0,1340672</td>\n",
       "    </tr>\n",
       "    <tr>\n",
       "      <th>3</th>\n",
       "      <td>1</td>\n",
       "      <td>142.0</td>\n",
       "      <td>normexam</td>\n",
       "      <td>-1,723882</td>\n",
       "    </tr>\n",
       "    <tr>\n",
       "      <th>4</th>\n",
       "      <td>1</td>\n",
       "      <td>141.0</td>\n",
       "      <td>normexam</td>\n",
       "      <td>0,9675862</td>\n",
       "    </tr>\n",
       "    <tr>\n",
       "      <th>5</th>\n",
       "      <td>1</td>\n",
       "      <td>138.0</td>\n",
       "      <td>normexam</td>\n",
       "      <td>0,5443412</td>\n",
       "    </tr>\n",
       "    <tr>\n",
       "      <th>...</th>\n",
       "      <td>...</td>\n",
       "      <td>...</td>\n",
       "      <td>...</td>\n",
       "      <td>...</td>\n",
       "    </tr>\n",
       "    <tr>\n",
       "      <th>8114</th>\n",
       "      <td>65</td>\n",
       "      <td>46.0</td>\n",
       "      <td>standLRT</td>\n",
       "      <td>1,8588312</td>\n",
       "    </tr>\n",
       "    <tr>\n",
       "      <th>8115</th>\n",
       "      <td>65</td>\n",
       "      <td>59.0</td>\n",
       "      <td>standLRT</td>\n",
       "      <td>-1,03397</td>\n",
       "    </tr>\n",
       "    <tr>\n",
       "      <th>8116</th>\n",
       "      <td>65</td>\n",
       "      <td>60.0</td>\n",
       "      <td>standLRT</td>\n",
       "      <td>0,4537562</td>\n",
       "    </tr>\n",
       "    <tr>\n",
       "      <th>8117</th>\n",
       "      <td>65</td>\n",
       "      <td>61.0</td>\n",
       "      <td>standLRT</td>\n",
       "      <td>-0,786016</td>\n",
       "    </tr>\n",
       "    <tr>\n",
       "      <th>8118</th>\n",
       "      <td>65</td>\n",
       "      <td>56.0</td>\n",
       "      <td>standLRT</td>\n",
       "      <td>-1,364576</td>\n",
       "    </tr>\n",
       "  </tbody>\n",
       "</table>\n",
       "<p>8118 rows × 4 columns</p>\n",
       "</div>"
      ],
      "text/plain": [
       "      school  student  variable      value\n",
       "1          1    143.0  normexam  0,2613242\n",
       "2          1    145.0  normexam  0,1340672\n",
       "3          1    142.0  normexam  -1,723882\n",
       "4          1    141.0  normexam  0,9675862\n",
       "5          1    138.0  normexam  0,5443412\n",
       "...      ...      ...       ...        ...\n",
       "8114      65     46.0  standLRT  1,8588312\n",
       "8115      65     59.0  standLRT   -1,03397\n",
       "8116      65     60.0  standLRT  0,4537562\n",
       "8117      65     61.0  standLRT  -0,786016\n",
       "8118      65     56.0  standLRT  -1,364576\n",
       "\n",
       "[8118 rows x 4 columns]"
      ]
     },
     "execution_count": 392,
     "metadata": {},
     "output_type": "execute_result"
    }
   ],
   "source": [
    "## Leitura do arquivo \"num_student_data.csv\" e sua visualização:\n",
    "data_num_student = pd.read_csv ('num_student_data.csv', sep=';')\n",
    "data_num_student"
   ]
  },
  {
   "cell_type": "code",
   "execution_count": 393,
   "metadata": {},
   "outputs": [
    {
     "data": {
      "text/html": [
       "<div>\n",
       "<style scoped>\n",
       "    .dataframe tbody tr th:only-of-type {\n",
       "        vertical-align: middle;\n",
       "    }\n",
       "\n",
       "    .dataframe tbody tr th {\n",
       "        vertical-align: top;\n",
       "    }\n",
       "\n",
       "    .dataframe thead th {\n",
       "        text-align: right;\n",
       "    }\n",
       "</style>\n",
       "<table border=\"1\" class=\"dataframe\">\n",
       "  <thead>\n",
       "    <tr style=\"text-align: right;\">\n",
       "      <th></th>\n",
       "      <th>school</th>\n",
       "      <th>student</th>\n",
       "      <th>value</th>\n",
       "    </tr>\n",
       "  </thead>\n",
       "  <tbody>\n",
       "    <tr>\n",
       "      <th>1</th>\n",
       "      <td>1</td>\n",
       "      <td>143.0</td>\n",
       "      <td>0,2613242</td>\n",
       "    </tr>\n",
       "    <tr>\n",
       "      <th>2</th>\n",
       "      <td>1</td>\n",
       "      <td>145.0</td>\n",
       "      <td>0,1340672</td>\n",
       "    </tr>\n",
       "    <tr>\n",
       "      <th>3</th>\n",
       "      <td>1</td>\n",
       "      <td>142.0</td>\n",
       "      <td>-1,723882</td>\n",
       "    </tr>\n",
       "    <tr>\n",
       "      <th>4</th>\n",
       "      <td>1</td>\n",
       "      <td>141.0</td>\n",
       "      <td>0,9675862</td>\n",
       "    </tr>\n",
       "    <tr>\n",
       "      <th>5</th>\n",
       "      <td>1</td>\n",
       "      <td>138.0</td>\n",
       "      <td>0,5443412</td>\n",
       "    </tr>\n",
       "  </tbody>\n",
       "</table>\n",
       "</div>"
      ],
      "text/plain": [
       "   school  student      value\n",
       "1       1    143.0  0,2613242\n",
       "2       1    145.0  0,1340672\n",
       "3       1    142.0  -1,723882\n",
       "4       1    141.0  0,9675862\n",
       "5       1    138.0  0,5443412"
      ]
     },
     "execution_count": 393,
     "metadata": {},
     "output_type": "execute_result"
    }
   ],
   "source": [
    "## Dadas as informações acima, filtrou-se apenas os dados proveitosos para as análises a serem feitas, \n",
    "## sendo esses: \"school\", \"student\" e \"variable\" = \"normexam\", uma vez que, a pontuação dos demais exames não \n",
    "## seriam utilizadas. Após obtidas as informações necessárias, excluiu-se a coluna \"variable\":\n",
    "\n",
    "data_num_student = data_num_student [(data_num_student.variable == 'normexam')]\n",
    "data_num_student.drop(['variable'], axis = 1, inplace = True)\n",
    "data_num_student.head()"
   ]
  },
  {
   "cell_type": "code",
   "execution_count": 394,
   "metadata": {},
   "outputs": [
    {
     "name": "stdout",
     "output_type": "stream",
     "text": [
      "<class 'pandas.core.frame.DataFrame'>\n",
      "Int64Index: 4059 entries, 1 to 4059\n",
      "Data columns (total 3 columns):\n",
      " #   Column   Non-Null Count  Dtype  \n",
      "---  ------   --------------  -----  \n",
      " 0   school   4059 non-null   int64  \n",
      " 1   student  4014 non-null   float64\n",
      " 2   value    3987 non-null   object \n",
      "dtypes: float64(1), int64(1), object(1)\n",
      "memory usage: 126.8+ KB\n"
     ]
    }
   ],
   "source": [
    "## Verificação das informações do df:\n",
    "\n",
    "data_num_student.info()"
   ]
  },
  {
   "cell_type": "code",
   "execution_count": 395,
   "metadata": {},
   "outputs": [
    {
     "data": {
      "text/plain": [
       "school      0\n",
       "student    45\n",
       "value      72\n",
       "dtype: int64"
      ]
     },
     "execution_count": 395,
     "metadata": {},
     "output_type": "execute_result"
    }
   ],
   "source": [
    "## Verificação da exitência e quantidade de dados nulos:\n",
    "\n",
    "data_num_student.isna().sum()"
   ]
  },
  {
   "cell_type": "code",
   "execution_count": 396,
   "metadata": {},
   "outputs": [
    {
     "data": {
      "text/plain": [
       "(4059, 3)"
      ]
     },
     "execution_count": 396,
     "metadata": {},
     "output_type": "execute_result"
    }
   ],
   "source": [
    "## Tamanho do df:\n",
    "\n",
    "data_num_student.shape"
   ]
  },
  {
   "cell_type": "code",
   "execution_count": 397,
   "metadata": {},
   "outputs": [
    {
     "data": {
      "text/html": [
       "<div>\n",
       "<style scoped>\n",
       "    .dataframe tbody tr th:only-of-type {\n",
       "        vertical-align: middle;\n",
       "    }\n",
       "\n",
       "    .dataframe tbody tr th {\n",
       "        vertical-align: top;\n",
       "    }\n",
       "\n",
       "    .dataframe thead th {\n",
       "        text-align: right;\n",
       "    }\n",
       "</style>\n",
       "<table border=\"1\" class=\"dataframe\">\n",
       "  <thead>\n",
       "    <tr style=\"text-align: right;\">\n",
       "      <th></th>\n",
       "      <th>school</th>\n",
       "      <th>student</th>\n",
       "      <th>value</th>\n",
       "    </tr>\n",
       "  </thead>\n",
       "  <tbody>\n",
       "    <tr>\n",
       "      <th>1</th>\n",
       "      <td>1</td>\n",
       "      <td>143.0</td>\n",
       "      <td>0.261324</td>\n",
       "    </tr>\n",
       "    <tr>\n",
       "      <th>2</th>\n",
       "      <td>1</td>\n",
       "      <td>145.0</td>\n",
       "      <td>0.134067</td>\n",
       "    </tr>\n",
       "    <tr>\n",
       "      <th>3</th>\n",
       "      <td>1</td>\n",
       "      <td>142.0</td>\n",
       "      <td>-1.723882</td>\n",
       "    </tr>\n",
       "    <tr>\n",
       "      <th>4</th>\n",
       "      <td>1</td>\n",
       "      <td>141.0</td>\n",
       "      <td>0.967586</td>\n",
       "    </tr>\n",
       "    <tr>\n",
       "      <th>5</th>\n",
       "      <td>1</td>\n",
       "      <td>138.0</td>\n",
       "      <td>0.544341</td>\n",
       "    </tr>\n",
       "    <tr>\n",
       "      <th>...</th>\n",
       "      <td>...</td>\n",
       "      <td>...</td>\n",
       "      <td>...</td>\n",
       "    </tr>\n",
       "    <tr>\n",
       "      <th>4055</th>\n",
       "      <td>65</td>\n",
       "      <td>46.0</td>\n",
       "      <td>NaN</td>\n",
       "    </tr>\n",
       "    <tr>\n",
       "      <th>4056</th>\n",
       "      <td>65</td>\n",
       "      <td>59.0</td>\n",
       "      <td>NaN</td>\n",
       "    </tr>\n",
       "    <tr>\n",
       "      <th>4057</th>\n",
       "      <td>65</td>\n",
       "      <td>60.0</td>\n",
       "      <td>0.004322</td>\n",
       "    </tr>\n",
       "    <tr>\n",
       "      <th>4058</th>\n",
       "      <td>65</td>\n",
       "      <td>61.0</td>\n",
       "      <td>0.004322</td>\n",
       "    </tr>\n",
       "    <tr>\n",
       "      <th>4059</th>\n",
       "      <td>65</td>\n",
       "      <td>56.0</td>\n",
       "      <td>-1.029067</td>\n",
       "    </tr>\n",
       "  </tbody>\n",
       "</table>\n",
       "<p>4059 rows × 3 columns</p>\n",
       "</div>"
      ],
      "text/plain": [
       "      school  student     value\n",
       "1          1    143.0  0.261324\n",
       "2          1    145.0  0.134067\n",
       "3          1    142.0 -1.723882\n",
       "4          1    141.0  0.967586\n",
       "5          1    138.0  0.544341\n",
       "...      ...      ...       ...\n",
       "4055      65     46.0       NaN\n",
       "4056      65     59.0       NaN\n",
       "4057      65     60.0  0.004322\n",
       "4058      65     61.0  0.004322\n",
       "4059      65     56.0 -1.029067\n",
       "\n",
       "[4059 rows x 3 columns]"
      ]
     },
     "execution_count": 397,
     "metadata": {},
     "output_type": "execute_result"
    }
   ],
   "source": [
    "## Transformação do tipo da coluna \"value\" de object para float\n",
    "\n",
    "data_num_student['value']=data_num_student['value'].str.replace(',', '.')\n",
    "data_num_student['value']=data_num_student['value'].astype(float)\n",
    "data_num_student"
   ]
  },
  {
   "cell_type": "code",
   "execution_count": 398,
   "metadata": {},
   "outputs": [],
   "source": [
    "## \"Merge\"/Fusão dos dataframes visualizados acima:\n",
    "new_df = pd.merge(data_cat_school, data_num_student, on='school', how='inner' )\n",
    "new_df = pd.merge(data_cat_student, new_df, on= ['school', 'student'], how='right')\n",
    "\n",
    "## Para melhor compreensão, os nomes das colunas foram alterados para suas respectivas informações de valores contidos em si:\n",
    "new_df.rename(columns={\"value\":\"intake\", \"value_x\": \"schgen\", \"value_y\": \"normexam_value\"}, inplace=True)\n",
    "\n",
    "## Tranformação do dado de gênero para um número correspondente à tal informação, sendo:\n",
    "## boys = 0\n",
    "## girls = 1\n",
    "## mixed = 2\n",
    "new_df.schgen = new_df.schgen.map({'boys':0,'girls':1, 'mixed':2})\n",
    "\n",
    "## Substituição dos valores Nan para 0:\n",
    "new_df = new_df.fillna(0)"
   ]
  },
  {
   "cell_type": "code",
   "execution_count": 399,
   "metadata": {},
   "outputs": [
    {
     "data": {
      "text/html": [
       "<div>\n",
       "<style scoped>\n",
       "    .dataframe tbody tr th:only-of-type {\n",
       "        vertical-align: middle;\n",
       "    }\n",
       "\n",
       "    .dataframe tbody tr th {\n",
       "        vertical-align: top;\n",
       "    }\n",
       "\n",
       "    .dataframe thead th {\n",
       "        text-align: right;\n",
       "    }\n",
       "</style>\n",
       "<table border=\"1\" class=\"dataframe\">\n",
       "  <thead>\n",
       "    <tr style=\"text-align: right;\">\n",
       "      <th></th>\n",
       "      <th>school</th>\n",
       "      <th>student</th>\n",
       "      <th>intake</th>\n",
       "      <th>schgen</th>\n",
       "      <th>normexam_value</th>\n",
       "    </tr>\n",
       "  </thead>\n",
       "  <tbody>\n",
       "    <tr>\n",
       "      <th>0</th>\n",
       "      <td>1</td>\n",
       "      <td>143.0</td>\n",
       "      <td>0.25</td>\n",
       "      <td>2</td>\n",
       "      <td>0.261324</td>\n",
       "    </tr>\n",
       "    <tr>\n",
       "      <th>1</th>\n",
       "      <td>1</td>\n",
       "      <td>145.0</td>\n",
       "      <td>0.50</td>\n",
       "      <td>2</td>\n",
       "      <td>0.134067</td>\n",
       "    </tr>\n",
       "    <tr>\n",
       "      <th>2</th>\n",
       "      <td>1</td>\n",
       "      <td>142.0</td>\n",
       "      <td>0.75</td>\n",
       "      <td>2</td>\n",
       "      <td>-1.723882</td>\n",
       "    </tr>\n",
       "    <tr>\n",
       "      <th>3</th>\n",
       "      <td>1</td>\n",
       "      <td>141.0</td>\n",
       "      <td>0.50</td>\n",
       "      <td>2</td>\n",
       "      <td>0.967586</td>\n",
       "    </tr>\n",
       "    <tr>\n",
       "      <th>4</th>\n",
       "      <td>1</td>\n",
       "      <td>138.0</td>\n",
       "      <td>0.50</td>\n",
       "      <td>2</td>\n",
       "      <td>0.544341</td>\n",
       "    </tr>\n",
       "  </tbody>\n",
       "</table>\n",
       "</div>"
      ],
      "text/plain": [
       "   school  student  intake  schgen  normexam_value\n",
       "0       1    143.0    0.25       2        0.261324\n",
       "1       1    145.0    0.50       2        0.134067\n",
       "2       1    142.0    0.75       2       -1.723882\n",
       "3       1    141.0    0.50       2        0.967586\n",
       "4       1    138.0    0.50       2        0.544341"
      ]
     },
     "execution_count": 399,
     "metadata": {},
     "output_type": "execute_result"
    }
   ],
   "source": [
    "new_df.head()"
   ]
  },
  {
   "cell_type": "code",
   "execution_count": 400,
   "metadata": {},
   "outputs": [
    {
     "name": "stdout",
     "output_type": "stream",
     "text": [
      "R2: 0.30485095079160485\n",
      "R2 Ajustado: 0.30313735412141163\n",
      "MSE: 0.6506234339617527\n",
      "RMSE: 0.8066123194954021\n",
      "MAE: 0.6417241878112491\n",
      "MAPE: inf\n"
     ]
    }
   ],
   "source": [
    "## Atruibuição dos valores das variáveis de entrada e saída do modelo:\n",
    "x = new_df[['school', 'intake', 'schgen']]\n",
    "y = new_df[['normexam_value']]\n",
    "\n",
    "## Divisão do dataset entre treino e teste:\n",
    "x_train, x_test, y_train, y_test = train_test_split(x, y, test_size=0.3, random_state=42)\n",
    "\n",
    "## Definição do algoritmo a ser utilizado:\n",
    "model = RandomForestRegressor()\n",
    "\n",
    "model.fit(x_train,y_train) #execução do treino com a base separada para tal função (base de treino) \n",
    "y_pred = model.predict(x_test) #predição que será utilizada na avaliação\n",
    "\n",
    "## R² coeficiente de determinação - para obtenção da quantidade de variância do modelo, ou seja, \n",
    "## a proximidade das medidas reais do modelo\n",
    "R2 = r2_score(y_test,y_pred) \n",
    "print(f'R2: {R2}') \n",
    "\n",
    "## Métrica similara ao R², porém sem demonstrar um viés devido acréscimo de dados ou features no modelo como occore na \n",
    "## métrica anterior:\n",
    "adj_r2 = (1 - ((1 - r2_score(y_test, y_pred)) * (len(y_test) - 1)) / \n",
    "          (len(y_test) - x_train.shape[1] - 1))\n",
    "\n",
    "print(f'R2 Ajustado: {adj_r2}')\n",
    "\n",
    "## Erro Quadrático Médio consiste na média do erro das previsões ao quadrado:\n",
    "MSE = mean_squared_error(y_test,y_pred)\n",
    "print(f'MSE: {MSE}')\n",
    "\n",
    "## Raiz do erro quadrático médio:\n",
    "RMSE = mean_squared_error(y_test,y_pred,squared=False) \n",
    "print(f'RMSE: {RMSE}')\n",
    "\n",
    "## Erro Absoluto Médio consiste na média das distâncias entre valores preditos e reais:\n",
    "MAE = mean_absolute_error(y_test,y_pred)\n",
    "print(f'MAE: {MAE}')\n",
    "\n",
    "def mean_absolute_percentage_error(y_true, y_pred): \n",
    "    y_true, y_pred = np.array(y_true), np.array(y_pred)\n",
    "    return np.mean(np.abs((y_true - y_pred) / y_true)) * 100\n",
    "\n",
    "## Erro Percentual Absoluto Médio exprime uma porcentagem, obtida através da divisão da diferença entre predito \n",
    "## e real pelo valor real.\n",
    "\n",
    "MAPE = mean_absolute_percentage_error(y_test, y_pred)\n",
    "print(f\"MAPE: {MAPE}\")\n",
    "\n",
    "## Há também a RMSLE (Raiz do erro médio quadrático e logarítmico) que, neste caso, não pode ser \n",
    "## usado por ter valores negativos\n",
    "# RMSLE = mean_squared_log_error(y_test,y_pred)\n",
    "# print(f'RMSLE: {RMSLE}')"
   ]
  },
  {
   "cell_type": "code",
   "execution_count": 401,
   "metadata": {},
   "outputs": [
    {
     "data": {
      "text/plain": [
       "<AxesSubplot:>"
      ]
     },
     "execution_count": 401,
     "metadata": {},
     "output_type": "execute_result"
    },
    {
     "data": {
      "image/png": "[encoded data removed]",
      "text/plain": [
       "<Figure size 864x432 with 1 Axes>"
      ]
     },
     "metadata": {
      "needs_background": "light"
     },
     "output_type": "display_data"
    },
    {
     "data": {
      "image/png": "[encoded data removed]",
      "text/plain": [
       "<Figure size 432x288 with 1 Axes>"
      ]
     },
     "metadata": {
      "needs_background": "light"
     },
     "output_type": "display_data"
    },
    {
     "data": {
      "image/png": "[encoded data removed]",
      "text/plain": [
       "<Figure size 432x288 with 1 Axes>"
      ]
     },
     "metadata": {
      "needs_background": "light"
     },
     "output_type": "display_data"
    }
   ],
   "source": [
    "# Transformando resultados em dataframe\n",
    "y_pred = pd.DataFrame(y_pred)\n",
    "y_test = pd.DataFrame(y_test)\n",
    "\n",
    "# Resetando o index\n",
    "y_test.reset_index(inplace=True,drop=True)\n",
    "\n",
    "# Definindo\n",
    "plt.figure(figsize=(12,6))\n",
    "plt.scatter(y_pred.index,y_pred[0])\n",
    "plt.scatter(y_test.index,y_test['normexam_value'])\n",
    "\n",
    "y_pred.plot.box()\n",
    "y_test.plot.box()"
   ]
  },
  {
   "cell_type": "markdown",
   "metadata": {},
   "source": [
    "Descartando os outliers dos valores reais, dentro da média vista através da plotagem do scatterplot, seria possível afirmar que os resultados seriam muito mais satisfatórios somente pela sua exclusão. Logo, o modelo consegue predizer bem dentro das notas de normalidade."
   ]
  },
  {
   "cell_type": "code",
   "execution_count": 402,
   "metadata": {},
   "outputs": [
    {
     "data": {
      "text/plain": [
       "array([-0.62182049])"
      ]
     },
     "execution_count": 402,
     "metadata": {},
     "output_type": "execute_result"
    }
   ],
   "source": [
    "data = [[3,.75,2]]\n",
    "\n",
    "# Criando um dataframe do pandas\n",
    "teste = pd.DataFrame(data, columns=['school','intake','schgen'])\n",
    "\n",
    "model.predict(teste)"
   ]
  },
  {
   "cell_type": "code",
   "execution_count": 408,
   "metadata": {},
   "outputs": [
    {
     "name": "stdout",
     "output_type": "stream",
     "text": [
      "2    2173\n",
      "1    1377\n",
      "0     517\n",
      "Name: schgen, dtype: int64\n"
     ]
    },
    {
     "data": {
      "text/plain": [
       "<AxesSubplot:>"
      ]
     },
     "execution_count": 408,
     "metadata": {},
     "output_type": "execute_result"
    },
    {
     "data": {
      "image/png": "[encoded data removed]",
      "text/plain": [
       "<Figure size 432x288 with 1 Axes>"
      ]
     },
     "metadata": {
      "needs_background": "light"
     },
     "output_type": "display_data"
    }
   ],
   "source": [
    "## Visualização da distrbuição dos gêneros das escolas através do histograma:\n",
    "\n",
    "schgen_df = new_df['schgen']\n",
    "print(schgen_df.value_counts())\n",
    "schgen_df.hist(bins=5)"
   ]
  },
  {
   "cell_type": "code",
   "execution_count": 409,
   "metadata": {},
   "outputs": [
    {
     "data": {
      "text/html": [
       "<div>\n",
       "<style scoped>\n",
       "    .dataframe tbody tr th:only-of-type {\n",
       "        vertical-align: middle;\n",
       "    }\n",
       "\n",
       "    .dataframe tbody tr th {\n",
       "        vertical-align: top;\n",
       "    }\n",
       "\n",
       "    .dataframe thead th {\n",
       "        text-align: right;\n",
       "    }\n",
       "</style>\n",
       "<table border=\"1\" class=\"dataframe\">\n",
       "  <thead>\n",
       "    <tr style=\"text-align: right;\">\n",
       "      <th></th>\n",
       "      <th>schgen</th>\n",
       "      <th>normexam_value</th>\n",
       "    </tr>\n",
       "  </thead>\n",
       "  <tbody>\n",
       "    <tr>\n",
       "      <th>0</th>\n",
       "      <td>2</td>\n",
       "      <td>0.261324</td>\n",
       "    </tr>\n",
       "    <tr>\n",
       "      <th>1</th>\n",
       "      <td>2</td>\n",
       "      <td>0.134067</td>\n",
       "    </tr>\n",
       "    <tr>\n",
       "      <th>2</th>\n",
       "      <td>2</td>\n",
       "      <td>-1.723882</td>\n",
       "    </tr>\n",
       "    <tr>\n",
       "      <th>3</th>\n",
       "      <td>2</td>\n",
       "      <td>0.967586</td>\n",
       "    </tr>\n",
       "    <tr>\n",
       "      <th>4</th>\n",
       "      <td>2</td>\n",
       "      <td>0.544341</td>\n",
       "    </tr>\n",
       "  </tbody>\n",
       "</table>\n",
       "</div>"
      ],
      "text/plain": [
       "   schgen  normexam_value\n",
       "0       2        0.261324\n",
       "1       2        0.134067\n",
       "2       2       -1.723882\n",
       "3       2        0.967586\n",
       "4       2        0.544341"
      ]
     },
     "execution_count": 409,
     "metadata": {},
     "output_type": "execute_result"
    }
   ],
   "source": [
    "## Novo df com as catergorias de gênero e notas dos exames:\n",
    "col = ['schgen', 'normexam_value']\n",
    "sch_norm = new_df.filter(items = col)\n",
    "sch_norm.head()"
   ]
  },
  {
   "cell_type": "code",
   "execution_count": 410,
   "metadata": {},
   "outputs": [],
   "source": [
    "## Divisão das notas de acordo com gênero da escola, para visualização no bloxpot a seguir:\n",
    "\n",
    "mixed = sch_norm[sch_norm['schgen']==2]['normexam_value']\n",
    "girls = sch_norm[sch_norm['schgen']==1]['normexam_value']\n",
    "boys = sch_norm[sch_norm['schgen']==0]['normexam_value']\n",
    "\n",
    "boxplot_mixed = pd.DataFrame(mixed)\n",
    "boxplot_girls = pd.DataFrame(girls)\n",
    "boxplot_boys = pd.DataFrame(boys)\n",
    "\n",
    "boxplot_mixed.rename(columns={\"normexam_value\": \"mixed\"}, inplace=True)\n",
    "boxplot_girls.rename(columns={\"normexam_value\": \"girls\"}, inplace=True)\n",
    "boxplot_boys.rename(columns={\"normexam_value\": \"boys\"}, inplace=True)"
   ]
  },
  {
   "cell_type": "code",
   "execution_count": 411,
   "metadata": {},
   "outputs": [
    {
     "name": "stdout",
     "output_type": "stream",
     "text": [
      "mixed   -0.099637\n",
      "dtype: float64\n",
      "girls    0.146406\n",
      "dtype: float64\n",
      "boys    0.021442\n",
      "dtype: float64\n"
     ]
    },
    {
     "data": {
      "image/png": "[encoded data removed]",
      "text/plain": [
       "<Figure size 432x288 with 1 Axes>"
      ]
     },
     "metadata": {
      "needs_background": "light"
     },
     "output_type": "display_data"
    },
    {
     "data": {
      "image/png": "[encoded data removed]",
      "text/plain": [
       "<Figure size 432x288 with 1 Axes>"
      ]
     },
     "metadata": {
      "needs_background": "light"
     },
     "output_type": "display_data"
    },
    {
     "data": {
      "image/png": "[encoded data removed]",
      "text/plain": [
       "<Figure size 432x288 with 1 Axes>"
      ]
     },
     "metadata": {
      "needs_background": "light"
     },
     "output_type": "display_data"
    }
   ],
   "source": [
    "## Boxplot foi feito para representar a distribuição e valores discrepantes (outliers) dos dados por meio de quartis:\n",
    "boxplot_mixed.plot.box()\n",
    "boxplot_girls.plot.box()\n",
    "boxplot_boys.plot.box()\n",
    "\n",
    "## Visualização das médias das notas pelo gênero da escola:\n",
    "print(np.mean(boxplot_mixed))\n",
    "print(np.mean(boxplot_girls))\n",
    "print(np.mean(boxplot_boys))"
   ]
  },
  {
   "cell_type": "markdown",
   "metadata": {},
   "source": [
    "##### *Conclusão:* \n",
    "\n",
    "*Dadas as informações obtidas das médias acima, pode-se concluir que, as escolas cujo gênero é feminino somente, possui maior eficiência na sua formação de acordo com a avaliação das médias do normexam.*"
   ]
  },
  {
   "cell_type": "code",
   "execution_count": null,
   "metadata": {},
   "outputs": [],
   "source": []
  }
 ],
 "metadata": {
  "interpreter": {
   "hash": "2592c5c34b015efd55e126e94481a0f9222af3004a2d26b997f1d42eabeb5820"
  },
  "kernelspec": {
   "display_name": "Python 3",
   "language": "python",
   "name": "python3"
  },
  "language_info": {
   "codemirror_mode": {
    "name": "ipython",
    "version": 3
   },
   "file_extension": ".py",
   "mimetype": "text/x-python",
   "name": "python",
   "nbconvert_exporter": "python",
   "pygments_lexer": "ipython3",
   "version": "3.8.8"
  }
 },
 "nbformat": 4,
 "nbformat_minor": 4
}
